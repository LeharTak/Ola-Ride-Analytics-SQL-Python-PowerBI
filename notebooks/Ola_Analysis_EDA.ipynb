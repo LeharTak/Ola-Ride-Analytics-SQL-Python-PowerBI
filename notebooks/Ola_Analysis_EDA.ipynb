{
 "cells": [
  {
   "cell_type": "code",
   "execution_count": 1,
   "id": "209bb20c-0615-4304-8495-99a254d7efd6",
   "metadata": {},
   "outputs": [
    {
     "name": "stdout",
     "output_type": "stream",
     "text": [
      "                    Date      Time     Booking_ID        Booking_Status  \\\n",
      "0       26-07-2024 14:00  14:00:00  CNR7153255142    Canceled by Driver   \n",
      "1       25-07-2024 22:20  22:20:00  CNR2940424040               Success   \n",
      "2       30-07-2024 19:59  19:59:00  CNR2982357879               Success   \n",
      "3       22-07-2024 03:15  03:15:00  CNR2395710036  Canceled by Customer   \n",
      "4       02-07-2024 09:02  09:02:00  CNR1797421769               Success   \n",
      "...                  ...       ...            ...                   ...   \n",
      "103019  31-07-2024 09:06  09:06:00  CNR9488489435               Success   \n",
      "103020  31-07-2024 15:12  15:12:00  CNR3151743100               Success   \n",
      "103021  31-07-2024 13:59  13:59:00  CNR1286151233               Success   \n",
      "103022  31-07-2024 14:56  14:56:00  CNR2027162035               Success   \n",
      "103023  31-07-2024 13:57  13:57:00  CNR9770709721               Success   \n",
      "\n",
      "       Customer_ID Vehicle_Type    Pickup_Location  Drop_Location  V_TAT  \\\n",
      "0        CID713523  Prime Sedan        Tumkur Road       RT Nagar    NaN   \n",
      "1        CID225428         Bike        Magadi Road        Varthur  203.0   \n",
      "2        CID270156    Prime SUV      Sahakar Nagar        Varthur  238.0   \n",
      "3        CID581320        eBike         HSR Layout    Vijayanagar    NaN   \n",
      "4        CID939555         Mini        Rajajinagar    Chamarajpet  252.0   \n",
      "...            ...          ...                ...            ...    ...   \n",
      "103019   CID371654   Prime Plus      Richmond Town        Varthur  245.0   \n",
      "103020   CID334158         Auto        Vijayanagar  Richmond Town   84.0   \n",
      "103021   CID113188    Prime SUV  Bannerghatta Road       JP Nagar   35.0   \n",
      "103022   CID118301        eBike        Indiranagar    Magadi Road  210.0   \n",
      "103023   CID217959         Auto             Ulsoor         Hennur  175.0   \n",
      "\n",
      "        C_TAT                    Canceled_Rides_by_Customer  \\\n",
      "0         NaN                                           NaN   \n",
      "1        30.0                                           NaN   \n",
      "2       130.0                                           NaN   \n",
      "3         NaN  Driver is not moving towards pickup location   \n",
      "4        80.0                                           NaN   \n",
      "...       ...                                           ...   \n",
      "103019   35.0                                           NaN   \n",
      "103020  145.0                                           NaN   \n",
      "103021   75.0                                           NaN   \n",
      "103022  140.0                                           NaN   \n",
      "103023  125.0                                           NaN   \n",
      "\n",
      "            Canceled_Rides_by_Driver Incomplete_Rides Incomplete_Rides_Reason  \\\n",
      "0       Personal & Car related issue              NaN                     NaN   \n",
      "1                                NaN               No                     NaN   \n",
      "2                                NaN               No                     NaN   \n",
      "3                                NaN              NaN                     NaN   \n",
      "4                                NaN               No                     NaN   \n",
      "...                              ...              ...                     ...   \n",
      "103019                           NaN               No                     NaN   \n",
      "103020                           NaN               No                     NaN   \n",
      "103021                           NaN               No                     NaN   \n",
      "103022                           NaN               No                     NaN   \n",
      "103023                           NaN               No                     NaN   \n",
      "\n",
      "        Booking_Value Payment_Method  Ride_Distance  Driver_Ratings  \\\n",
      "0                 444            NaN              0            3.99   \n",
      "1                 158           Cash             13            4.10   \n",
      "2                 386            UPI             40            4.20   \n",
      "3                 384            NaN              0            3.99   \n",
      "4                 822    Credit Card             45            4.00   \n",
      "...               ...            ...            ...             ...   \n",
      "103019            111           Cash             41            3.60   \n",
      "103020           1097            UPI             17            4.30   \n",
      "103021           2201           Cash             37            3.60   \n",
      "103022            267            UPI             47            3.40   \n",
      "103023            462            UPI              3            4.80   \n",
      "\n",
      "        Customer_Rating  \n",
      "0                   NaN  \n",
      "1                   4.0  \n",
      "2                   4.8  \n",
      "3                   NaN  \n",
      "4                   3.0  \n",
      "...                 ...  \n",
      "103019              3.8  \n",
      "103020              3.3  \n",
      "103021              3.2  \n",
      "103022              3.1  \n",
      "103023              4.4  \n",
      "\n",
      "[103024 rows x 19 columns]\n"
     ]
    }
   ],
   "source": [
    "import numpy as np\n",
    "import pandas as pd\n",
    "\n",
    "df = pd.read_csv(\"Booking.csv\")\n",
    "print(df)"
   ]
  },
  {
   "cell_type": "code",
   "execution_count": 7,
   "id": "f3ded87b-82d9-40b2-aa74-48a60810246e",
   "metadata": {},
   "outputs": [
    {
     "name": "stdout",
     "output_type": "stream",
     "text": [
      "<class 'pandas.core.frame.DataFrame'>\n",
      "RangeIndex: 103024 entries, 0 to 103023\n",
      "Data columns (total 19 columns):\n",
      " #   Column                      Non-Null Count   Dtype  \n",
      "---  ------                      --------------   -----  \n",
      " 0   Date                        103024 non-null  object \n",
      " 1   Time                        103024 non-null  object \n",
      " 2   Booking_ID                  103024 non-null  object \n",
      " 3   Booking_Status              103024 non-null  object \n",
      " 4   Customer_ID                 103024 non-null  object \n",
      " 5   Vehicle_Type                103024 non-null  object \n",
      " 6   Pickup_Location             103024 non-null  object \n",
      " 7   Drop_Location               103024 non-null  object \n",
      " 8   V_TAT                       63967 non-null   float64\n",
      " 9   C_TAT                       63967 non-null   float64\n",
      " 10  Canceled_Rides_by_Customer  10499 non-null   object \n",
      " 11  Canceled_Rides_by_Driver    18434 non-null   object \n",
      " 12  Incomplete_Rides            63967 non-null   object \n",
      " 13  Incomplete_Rides_Reason     3926 non-null    object \n",
      " 14  Booking_Value               103024 non-null  int64  \n",
      " 15  Payment_Method              63967 non-null   object \n",
      " 16  Ride_Distance               103024 non-null  int64  \n",
      " 17  Driver_Ratings              103024 non-null  float64\n",
      " 18  Customer_Rating             63967 non-null   float64\n",
      "dtypes: float64(4), int64(2), object(13)\n",
      "memory usage: 14.9+ MB\n",
      "None\n"
     ]
    }
   ],
   "source": [
    "print(df.info())"
   ]
  },
  {
   "cell_type": "code",
   "execution_count": 8,
   "id": "af97f046-93e5-49b4-9199-878c9be8692f",
   "metadata": {},
   "outputs": [
    {
     "name": "stdout",
     "output_type": "stream",
     "text": [
      "              V_TAT         C_TAT  Booking_Value  Ride_Distance  \\\n",
      "count  63967.000000  63967.000000  103024.000000  103024.000000   \n",
      "mean     170.876952     84.873372     548.751883      14.189927   \n",
      "std       80.803640     36.005100     536.541221      15.776270   \n",
      "min       35.000000     25.000000     100.000000       0.000000   \n",
      "25%       98.000000     55.000000     242.000000       0.000000   \n",
      "50%      168.000000     85.000000     386.000000       8.000000   \n",
      "75%      238.000000    115.000000     621.000000      26.000000   \n",
      "max      308.000000    145.000000    2999.000000      49.000000   \n",
      "\n",
      "       Driver_Ratings  Customer_Rating  \n",
      "count    103024.00000     63967.000000  \n",
      "mean          3.99463         3.998313  \n",
      "std           0.45454         0.578957  \n",
      "min           3.00000         3.000000  \n",
      "25%           3.80000         3.500000  \n",
      "50%           3.99000         4.000000  \n",
      "75%           4.20000         4.500000  \n",
      "max           5.00000         5.000000  \n"
     ]
    }
   ],
   "source": [
    "print(df.describe())"
   ]
  },
  {
   "cell_type": "markdown",
   "id": "6e07ee50-0e70-4e2b-a9c7-3665cf291c0c",
   "metadata": {},
   "source": [
    "<!-- KNOW PERFORM ADVANCE EDA ---- -->"
   ]
  },
  {
   "cell_type": "markdown",
   "id": "b9bb2ca4-5e0d-4599-b011-cdf20d087a83",
   "metadata": {},
   "source": [
    "# KNOW ADVANCE PERFORM EDA-------------"
   ]
  },
  {
   "cell_type": "code",
   "execution_count": 11,
   "id": "1892116f-99b9-4d5a-b891-877f775f2906",
   "metadata": {},
   "outputs": [
    {
     "data": {
      "application/vnd.jupyter.widget-view+json": {
       "model_id": "ec918a8ce791456f8b22a83c90e5eec1",
       "version_major": 2,
       "version_minor": 0
      },
      "text/plain": [
       "Summarize dataset:   0%|          | 0/5 [00:00<?, ?it/s]"
      ]
     },
     "metadata": {},
     "output_type": "display_data"
    },
    {
     "name": "stderr",
     "output_type": "stream",
     "text": [
      "\n",
      "  0%|                                                                                           | 0/19 [00:00<?, ?it/s]\u001b[A\n",
      "100%|██████████████████████████████████████████████████████████████████████████████████| 19/19 [01:02<00:00,  3.30s/it]\u001b[A\n"
     ]
    },
    {
     "data": {
      "application/vnd.jupyter.widget-view+json": {
       "model_id": "089ce99096044772a0d877b191bdb571",
       "version_major": 2,
       "version_minor": 0
      },
      "text/plain": [
       "Generate report structure:   0%|          | 0/1 [00:00<?, ?it/s]"
      ]
     },
     "metadata": {},
     "output_type": "display_data"
    },
    {
     "data": {
      "application/vnd.jupyter.widget-view+json": {
       "model_id": "d9ab7a3af32b4f5c828173744f2ea8bb",
       "version_major": 2,
       "version_minor": 0
      },
      "text/plain": [
       "Render HTML:   0%|          | 0/1 [00:00<?, ?it/s]"
      ]
     },
     "metadata": {},
     "output_type": "display_data"
    },
    {
     "data": {
      "application/vnd.jupyter.widget-view+json": {
       "model_id": "65ee56dca0a043e08fc18754d0eb676f",
       "version_major": 2,
       "version_minor": 0
      },
      "text/plain": [
       "Export report to file:   0%|          | 0/1 [00:00<?, ?it/s]"
      ]
     },
     "metadata": {},
     "output_type": "display_data"
    },
    {
     "data": {
      "text/html": [
       "\n",
       "        <iframe\n",
       "            width=\"1000\"\n",
       "            height=\"1000\"\n",
       "            src=\"Ola_EDA_Report.html\"\n",
       "            frameborder=\"0\"\n",
       "            allowfullscreen\n",
       "            \n",
       "        ></iframe>\n",
       "        "
      ],
      "text/plain": [
       "<IPython.lib.display.IFrame at 0x2644043da90>"
      ]
     },
     "execution_count": 11,
     "metadata": {},
     "output_type": "execute_result"
    }
   ],
   "source": [
    "from ydata_profiling import ProfileReport\n",
    "from IPython.display import IFrame\n",
    "\n",
    "\n",
    "# Profiling report banani\n",
    "prof = ProfileReport(df, title=\"OLA EDA REPORT\", explorative=True)\n",
    "\n",
    "# Report HTML me save\n",
    "prof.to_file(\"Ola_EDA_Report.html\")\n",
    "\n",
    "# Notebook ke andar iframe ke through open\n",
    "IFrame(\"Ola_EDA_Report.html\", width=1000, height=1000)\n"
   ]
  },
  {
   "cell_type": "code",
   "execution_count": null,
   "id": "df8016b0-1bd4-48a3-8a08-4bebdbfe49ab",
   "metadata": {},
   "outputs": [],
   "source": []
  },
  {
   "cell_type": "markdown",
   "id": "27646312-d4e8-4242-a1f8-e4dd21e68c2e",
   "metadata": {},
   "source": [
    "# 📊 Statistical Analysis Techniques for Ola Dataset"
   ]
  },
  {
   "cell_type": "code",
   "execution_count": 4,
   "id": "bd6f7b87-d173-49e1-95ba-b0d6b74ee6a9",
   "metadata": {},
   "outputs": [
    {
     "name": "stdout",
     "output_type": "stream",
     "text": [
      "              V_TAT         C_TAT  Booking_Value  Ride_Distance  \\\n",
      "count  63967.000000  63967.000000  103024.000000  103024.000000   \n",
      "mean     170.876952     84.873372     548.751883      14.189927   \n",
      "std       80.803640     36.005100     536.541221      15.776270   \n",
      "min       35.000000     25.000000     100.000000       0.000000   \n",
      "25%       98.000000     55.000000     242.000000       0.000000   \n",
      "50%      168.000000     85.000000     386.000000       8.000000   \n",
      "75%      238.000000    115.000000     621.000000      26.000000   \n",
      "max      308.000000    145.000000    2999.000000      49.000000   \n",
      "\n",
      "       Driver_Ratings  Customer_Rating  \n",
      "count    103024.00000     63967.000000  \n",
      "mean          3.99463         3.998313  \n",
      "std           0.45454         0.578957  \n",
      "min           3.00000         3.000000  \n",
      "25%           3.80000         3.500000  \n",
      "50%           3.99000         4.000000  \n",
      "75%           4.20000         4.500000  \n",
      "max           5.00000         5.000000  \n",
      "Most common Customer Rating: 4.9\n"
     ]
    }
   ],
   "source": [
    "# Descriptive Statistics\n",
    "print(df.describe())\n",
    "# Mode (most common value)\n",
    "print(\"Most common Customer Rating:\", df['Customer_Rating'].mode()[0])"
   ]
  },
  {
   "cell_type": "code",
   "execution_count": 5,
   "id": "5a62784f-4e77-496a-ad53-3451f73ff35b",
   "metadata": {},
   "outputs": [
    {
     "name": "stdout",
     "output_type": "stream",
     "text": [
      "                    V_TAT     C_TAT  Booking_Value  Ride_Distance  \\\n",
      "V_TAT            1.000000  0.000249      -0.003671      -0.011204   \n",
      "C_TAT            0.000249  1.000000      -0.004443       0.000074   \n",
      "Booking_Value   -0.003671 -0.004443       1.000000       0.000492   \n",
      "Ride_Distance   -0.011204  0.000074       0.000492       1.000000   \n",
      "Driver_Ratings  -0.002300 -0.002815      -0.001052       0.000447   \n",
      "Customer_Rating  0.000574  0.001015       0.006231       0.009871   \n",
      "\n",
      "                 Driver_Ratings  Customer_Rating  \n",
      "V_TAT                 -0.002300         0.000574  \n",
      "C_TAT                 -0.002815         0.001015  \n",
      "Booking_Value         -0.001052         0.006231  \n",
      "Ride_Distance          0.000447         0.009871  \n",
      "Driver_Ratings         1.000000        -0.002807  \n",
      "Customer_Rating       -0.002807         1.000000  \n"
     ]
    },
    {
     "data": {
      "image/png": "[encoded data removed]",
      "text/plain": [
       "<Figure size 1000x700 with 2 Axes>"
      ]
     },
     "metadata": {},
     "output_type": "display_data"
    }
   ],
   "source": [
    "import seaborn as sns\n",
    "import matplotlib.pyplot as plt\n",
    "# Correlation Analysis\n",
    "# Correlation matrix\n",
    "corr = df.corr(numeric_only=True)\n",
    "print(corr)\n",
    "\n",
    "# Seaborn heatmap\n",
    "plt.figure(figsize=(10,7))\n",
    "sns.heatmap(corr, annot=True, cmap=\"coolwarm\", fmt=\".2f\", linewidths=0.5)\n",
    "plt.title(\"Correlation Heatmap - Ola Dataset\", fontsize=14)\n",
    "plt.show()"
   ]
  },
  {
   "cell_type": "code",
   "execution_count": 21,
   "id": "f9ba2861-851f-430f-8834-31f0c8942e2d",
   "metadata": {},
   "outputs": [
    {
     "name": "stdout",
     "output_type": "stream",
     "text": [
      "T-test result → t-stat: 1.448542647550516  p-value: 0.14747216420674217\n",
      "Conclusion: Fare difference is NOT significant\n"
     ]
    }
   ],
   "source": [
    "# Hypothesis Testing Explain Code For Other Understanding\n",
    "import pandas as pd\n",
    "from scipy import stats\n",
    "# Step 1: Convert Date column to datetime\n",
    "df[\"Date\"] = pd.to_datetime(df[\"Date\"], format=\"%d-%m-%Y %H:%M\", errors=\"coerce\") #errors=\"coerce\":Agar koi galat date ho toh usse NaT(null)bana deta hai\n",
    "\n",
    "\n",
    "# Step 2: Create new column for Weekday vs Weekend\n",
    "df[\"DayType\"] = df[\"Date\"].dt.dayofweek.apply(lambda x: 'Weekend' if x >= 5 else 'Weekday') #Har row ke date se day nikalta hai (0 = Monday, 6 = Sunday)\n",
    "\n",
    "# Split booking values\n",
    "weekday_fares = df[df['DayType']=='Weekday']['Booking_Value'].dropna() #Kya karta hai:\"Booking_Value\" ko Weekday aur Weekend ke hisaab se split karta hai\n",
    "weekend_fares = df[df['DayType']=='Weekend']['Booking_Value'].dropna() #- Do alag series milti hain → weekday_fares aur weekend_fares\n",
    "\n",
    "# Perform t-test \n",
    "# - Kya karta hai: Independent t-test lagata hai\n",
    "# - Purpose: Check karna ki kya Weekday aur Weekend fares mein significant difference hai\n",
    "# - equal_var=False: Assume karta hai ki dono groups ka variance alag ho sakta hai\n",
    "# - Output: t_stat = test statistic, p_value = probability value\n",
    "\n",
    "t_stat, p_value = stats.ttest_ind(weekday_fares, weekend_fares, equal_var=False)\n",
    "# - Insight: Agar p_value < 0.05 hai → difference significant hai\n",
    "print(\"T-test result → t-stat:\", t_stat, \" p-value:\", p_value)\n",
    "\n",
    "# - Kya karta hai: Decision leta hai based on p_value\n",
    "# - Logic:\n",
    "# - p < 0.05 → Difference real hai, random nahi  \n",
    "# - p ≥ 0.05 → Difference random ho sakta hai, reliable nahi\n",
    "\n",
    "if p_value < 0.05:\n",
    "    print(\"Conclusion: Fare difference between weekday & weekend is SIGNIFICANT\")\n",
    "else:\n",
    "    print(\"Conclusion: Fare difference is NOT significant\")"
   ]
  },
  {
   "cell_type": "code",
   "execution_count": null,
   "id": "d8dc8350-bfbf-43da-bad7-f4e90e8a4d03",
   "metadata": {},
   "outputs": [],
   "source": [
    "# - p-value = 0.1474 → Yeh 0.05 se bada hai\n",
    "# - Matlab: Weekday aur Weekend rides ke fares mein koi strong, reliable difference nahi mila\n",
    "# Significant” vs “Not Significant” — Easy Explanation\n",
    "# Significant -- : Difference real hai, chance se nahi hua , Action -- Pricing strategy change kar sakte ho\n",
    "# Not Significant --: Difference random ho sakta hai, reliable nahi   Action -- No need to change anything"
   ]
  },
  {
   "cell_type": "code",
   "execution_count": 7,
   "id": "5c854a56-d391-40fb-bd61-403fc27a4777",
   "metadata": {},
   "outputs": [
    {
     "name": "stdout",
     "output_type": "stream",
     "text": [
      "Chi-square test → chi2: 0.0  p-value: 1.0\n",
      "Conclusion: No significant relation between Booking_Status and Payment_Method\n"
     ]
    }
   ],
   "source": [
    "# Example 2: Chi-Square Test (Booking_Status vs City) -- Chi-Square Test ka use kiya hai, jo categorical data ke beech relationship check karta hai\n",
    "\n",
    "import pandas as pd\n",
    "from scipy.stats import chi2_contingency\n",
    "\n",
    "df = pd.read_csv(\"Booking.csv\")\n",
    "\n",
    "# Make contingency table  (# - Booking_Status aur Payment_Method ke beech ek table banata hai)\n",
    "# - Table format: Rows = Booking_Status (e.g., Completed, Cancelled), Columns = Payment_Method (e.g., Cash, Card, Wallet)\n",
    "# - Use: Count karta hai kitni baar har combination aaya\n",
    "contingency = pd.crosstab(df['Booking_Status'], df['Payment_Method']) \n",
    "\n",
    "\n",
    "# Run chi-square test - Chi-square test lagata hai\n",
    "# - Purpose: Check karta hai ki kya Booking_Status aur Payment_Method ke beech koi relation hai ya nahi\n",
    "chi2, p, dof, expected = chi2_contingency(contingency)\n",
    "\n",
    "print(\"Chi-square test → chi2:\", chi2, \" p-value:\", p)\n",
    "\n",
    "if p < 0.05:\n",
    "    print(\"Conclusion: Booking_Status depends on Payment_Method (significant relation)\")\n",
    "else:\n",
    "    print(\"Conclusion: No significant relation between Booking_Status and Payment_Method\")\n",
    "\n",
    "# - Logic:\n",
    "# - p < 0.05 → Significant → Booking_Status aur Payment_Method connected hain\n",
    "# - p ≥ 0.05 → Not Significant → Dono independent hai"
   ]
  },
  {
   "cell_type": "code",
   "execution_count": 8,
   "id": "c88b5acd-2548-4d59-b203-f5d32520ed3e",
   "metadata": {},
   "outputs": [
    {
     "name": "stdout",
     "output_type": "stream",
     "text": [
      "                            OLS Regression Results                            \n",
      "==============================================================================\n",
      "Dep. Variable:          Booking_Value   R-squared:                       0.000\n",
      "Model:                            OLS   Adj. R-squared:                 -0.000\n",
      "Method:                 Least Squares   F-statistic:                   0.02497\n",
      "Date:                Sun, 14 Sep 2025   Prob (F-statistic):              0.874\n",
      "Time:                        23:43:24   Log-Likelihood:            -7.9370e+05\n",
      "No. Observations:              103024   AIC:                         1.587e+06\n",
      "Df Residuals:                  103022   BIC:                         1.587e+06\n",
      "Df Model:                           1                                         \n",
      "Covariance Type:            nonrobust                                         \n",
      "=================================================================================\n",
      "                    coef    std err          t      P>|t|      [0.025      0.975]\n",
      "---------------------------------------------------------------------------------\n",
      "const           548.5143      2.248    243.967      0.000     544.108     552.921\n",
      "Ride_Distance     0.0167      0.106      0.158      0.874      -0.191       0.224\n",
      "==============================================================================\n",
      "Omnibus:                    53943.239   Durbin-Watson:                   1.991\n",
      "Prob(Omnibus):                  0.000   Jarque-Bera (JB):           313856.297\n",
      "Skew:                           2.572   Prob(JB):                         0.00\n",
      "Kurtosis:                       9.831   Cond. No.                         28.6\n",
      "==============================================================================\n",
      "\n",
      "Notes:\n",
      "[1] Standard Errors assume that the covariance matrix of the errors is correctly specified.\n"
     ]
    }
   ],
   "source": [
    "# Regression Analysis\n",
    "# Example 1 – Simple Linear Regression (Fare ~ Distance)\n",
    "# This Cell Work --: Ek variable (Ride_Distance) badhne par doosra variable (Booking_Value) kitna badhta hai—yeh predict karta hai.\n",
    "# Agar ride 1 km se 5 km ho jaaye, to fare ₹100 se ₹300 ho sakta hai.\n",
    "# Regression batata hai: “Kitna badhta hai per km?”\n",
    "\n",
    "\n",
    "import pandas as pd\n",
    "import statsmodels.api as sm\n",
    "\n",
    "df = pd.read_csv(\"Booking.csv\")\n",
    "\n",
    "# Drop NA values\n",
    "df = df[['Ride_Distance', 'Booking_Value']].dropna() # Take 2 Column And dropna() → Null values hata raha hai taaki model clean data pe train ho\n",
    "\n",
    "# Independent variable (X)  Input and dependent (y) Output Define Variable \n",
    "# - X = Ride_Distance → Input\n",
    "# - y = Booking_Value → Output (jo predict karna hai)\n",
    "X = df['Ride_Distance']\n",
    "y = df['Booking_Value']\n",
    "\n",
    "# Add constant (for intercept)\n",
    "# - Regression equation: y = a + bX\n",
    "# - Yeh line a (intercept) add karti hai → jab distance = 0 ho, tab fare kya hoga\n",
    "X = sm.add_constant(X)\n",
    "\n",
    "# Build regression model\n",
    "# - OLS = Ordinary Least Squares → Regression ka method\n",
    "# - fit() → Model ko train kar raha hai data pe\n",
    "model = sm.OLS(y, X).fit()\n",
    "\n",
    "# Print summary\n",
    "print(model.summary())\n",
    "# - Yeh output deta hai:\n",
    "# - Coefficient → 1 km badhne pe fare kitna badhta hai\n",
    "# - Intercept → Jab distance 0 ho, tab base fare kya hoga\n",
    "# - R-squared → Model kitna accurate hai (0 to 1 scale)\n"
   ]
  },
  {
   "cell_type": "code",
   "execution_count": null,
   "id": "e8f6564c-b488-4b8b-9a20-618a17c39918",
   "metadata": {},
   "outputs": [],
   "source": [
    "# Explain Output--:\n",
    "# 1. R-squared = 0.000\n",
    "# This means ride distance explains almost 0% of the variation in fare.\n",
    "# In simple words: Fare is not linked to distance in this dataset.\n",
    "\n",
    "# 2 . Coefficients (coef)\n",
    "# Intercept (const) = 548.5\n",
    "# 👉 Even if ride distance is 0 km, the average fare is around ₹549.\n",
    "# 👉 This looks like a flat base price system in the dataset.\n",
    "\n",
    "# Ride_Distance = 0.0167 (p = 0.874)\n",
    "# 👉 Distance adds almost nothing to the fare.\n",
    "# 👉 p-value = 0.874 (>0.05) → Not statistically significant.\n",
    "\n",
    "# 3. P-values\n",
    "# If p < 0.05 → strong evidence that factor matters.\n",
    "# Here, distance has p = 0.874, so distance does not matter.\n",
    "\n",
    "# So, your Simple Regression shows Ola pricing is flat-based, not distance-based.\n",
    "# That’s why earlier (in correlation too) we saw no link between fare & distance."
   ]
  },
  {
   "cell_type": "code",
   "execution_count": 10,
   "id": "27bf086b-1802-46b4-acc7-27fef2ff68b3",
   "metadata": {},
   "outputs": [
    {
     "name": "stdout",
     "output_type": "stream",
     "text": [
      "                            OLS Regression Results                            \n",
      "==============================================================================\n",
      "Dep. Variable:          Booking_Value   R-squared:                       0.000\n",
      "Model:                            OLS   Adj. R-squared:                 -0.000\n",
      "Method:                 Least Squares   F-statistic:                    0.7806\n",
      "Date:                Sun, 14 Sep 2025   Prob (F-statistic):              0.505\n",
      "Time:                        23:43:55   Log-Likelihood:            -4.9282e+05\n",
      "No. Observations:               63967   AIC:                         9.856e+05\n",
      "Df Residuals:                   63963   BIC:                         9.857e+05\n",
      "Df Model:                           3                                         \n",
      "Covariance Type:            nonrobust                                         \n",
      "=================================================================================\n",
      "                    coef    std err          t      P>|t|      [0.025      0.975]\n",
      "---------------------------------------------------------------------------------\n",
      "const           556.5876      7.847     70.927      0.000     541.207     571.968\n",
      "Ride_Distance     0.0695      0.149      0.467      0.641      -0.223       0.362\n",
      "V_TAT            -0.0242      0.026     -0.923      0.356      -0.076       0.027\n",
      "C_TAT            -0.0662      0.059     -1.123      0.261      -0.182       0.049\n",
      "==============================================================================\n",
      "Omnibus:                    33588.491   Durbin-Watson:                   1.987\n",
      "Prob(Omnibus):                  0.000   Jarque-Bera (JB):           196511.543\n",
      "Skew:                           2.577   Prob(JB):                         0.00\n",
      "Kurtosis:                       9.867   Cond. No.                         762.\n",
      "==============================================================================\n",
      "\n",
      "Notes:\n",
      "[1] Standard Errors assume that the covariance matrix of the errors is correctly specified.\n"
     ]
    }
   ],
   "source": [
    "# xample 2 – Multiple Regression (Fare ~ Distance + V_TAT + C_TAT)\n",
    "# Select multiple predictors\n",
    "\n",
    "df = pd.read_csv(\"Booking.csv\")\n",
    "\n",
    "df = df[['Ride_Distance', 'V_TAT', 'C_TAT', 'Booking_Value']].dropna()\n",
    "\n",
    "X = df[['Ride_Distance', 'V_TAT', 'C_TAT']]\n",
    "y = df['Booking_Value']\n",
    "\n",
    "# Add constant\n",
    "X = sm.add_constant(X)\n",
    "\n",
    "# Build regression model\n",
    "model = sm.OLS(y, X).fit()\n",
    "\n",
    "# Print summary\n",
    "print(model.summary())\n"
   ]
  },
  {
   "cell_type": "code",
   "execution_count": 12,
   "id": "79213d53-4d79-4153-b486-ce3c81ced72a",
   "metadata": {},
   "outputs": [
    {
     "name": "stdout",
     "output_type": "stream",
     "text": [
      "['Date', 'Time', 'Booking_ID', 'Booking_Status', 'Customer_ID', 'Vehicle_Type', 'Pickup_Location', 'Drop_Location', 'V_TAT', 'C_TAT', 'Canceled_Rides_by_Customer', 'Canceled_Rides_by_Driver', 'Incomplete_Rides', 'Incomplete_Rides_Reason', 'Booking_Value', 'Payment_Method', 'Ride_Distance', 'Driver_Ratings', 'Customer_Rating']\n"
     ]
    }
   ],
   "source": [
    "df = pd.read_csv(\"Booking.csv\")\n",
    "print(df.columns.tolist())"
   ]
  },
  {
   "cell_type": "code",
   "execution_count": 15,
   "id": "3f032a73-7249-46b1-b160-4328f190245f",
   "metadata": {},
   "outputs": [
    {
     "name": "stdout",
     "output_type": "stream",
     "text": [
      "ANOVA result → F-stat: 1.7148444870534032  p-value: 0.11300693278603423\n",
      "Conclusion: Fare differences across weekdays are NOT significant\n"
     ]
    }
   ],
   "source": [
    "# ANOVA (Analysis of Variance)\n",
    "import pandas as pd\n",
    "from scipy import stats\n",
    "\n",
    "# Load dataset\n",
    "df = pd.read_csv(\"Booking.csv\")\n",
    "\n",
    "# Convert to datetime\n",
    "df['Date'] = pd.to_datetime(df['Date'], format=\"%d-%m-%Y %H:%M\", dayfirst=True)\n",
    "\n",
    "# Create new column for day of week (0=Monday, 6=Sunday)\n",
    "df['Weekday'] = df['Date'].dt.day_name()  # Har booking ke liye day nikal rahe ho (Monday, Tuesday, etc.)\n",
    "\n",
    "# Group booking values by weekday\n",
    "# - Har weekday ke Booking_Value ko alag group mein daal rahe ho\n",
    "# - dropna() → Null values hata rahe ho\n",
    "groups = [group[\"Booking_Value\"].dropna().values for name, group in df.groupby(\"Weekday\")]\n",
    "\n",
    "# Apply ANOVA\n",
    "# - ANOVA test lagaya: Check karta hai ki kya weekdays ke fares alag hain ya same\n",
    "# - Output:\n",
    "# - f_stat: Test statistic\n",
    "# - p_value: Result ka confidenc\n",
    "f_stat, p_value = stats.f_oneway(*groups)\n",
    "print(\"ANOVA result → F-stat:\", f_stat, \" p-value:\", p_value)\n",
    "\n",
    "if p_value < 0.05:\n",
    "    print(\"Conclusion: Fare differences across weekdays are SIGNIFICANT\")\n",
    "else:\n",
    "    print(\"Conclusion: Fare differences across weekdays are NOT significant\")\n",
    "\n",
    "# - p < 0.05 → At least ek weekday ka fare alag hai\n",
    "# - p ≥ 0.05 → Sab weekdays ka fare almost same hai\n"
   ]
  },
  {
   "cell_type": "code",
   "execution_count": null,
   "id": "59a4f602-b215-4a43-b00a-a64b9b999efd",
   "metadata": {},
   "outputs": [],
   "source": []
  }
 ],
 "metadata": {
  "kernelspec": {
   "display_name": "Python 3 (ipykernel)",
   "language": "python",
   "name": "python3"
  },
  "language_info": {
   "codemirror_mode": {
    "name": "ipython",
    "version": 3
   },
   "file_extension": ".py",
   "mimetype": "text/x-python",
   "name": "python",
   "nbconvert_exporter": "python",
   "pygments_lexer": "ipython3",
   "version": "3.12.7"
  }
 },
 "nbformat": 4,
 "nbformat_minor": 5
}
